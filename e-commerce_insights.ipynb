{
 "cells": [
  {
   "cell_type": "code",
   "execution_count": 1,
   "metadata": {
    "execution": {
     "iopub.execute_input": "2021-02-23T19:00:39.431431Z",
     "iopub.status.busy": "2021-02-23T19:00:39.430748Z",
     "iopub.status.idle": "2021-02-23T19:00:39.435096Z",
     "shell.execute_reply": "2021-02-23T19:00:39.434412Z"
    },
    "papermill": {
     "duration": 0.037009,
     "end_time": "2021-02-23T19:00:39.435349",
     "exception": false,
     "start_time": "2021-02-23T19:00:39.398340",
     "status": "completed"
    },
    "tags": []
   },
   "outputs": [],
   "source": [
    "import matplotlib.pyplot as plt\n",
    "import numpy as np\n",
    "import pandas as pd"
   ]
  },
  {
   "cell_type": "code",
   "execution_count": 2,
   "metadata": {
    "execution": {
     "iopub.execute_input": "2021-02-23T19:00:39.491373Z",
     "iopub.status.busy": "2021-02-23T19:00:39.490731Z",
     "iopub.status.idle": "2021-02-23T19:00:39.570046Z",
     "shell.execute_reply": "2021-02-23T19:00:39.569509Z"
    },
    "papermill": {
     "duration": 0.109686,
     "end_time": "2021-02-23T19:00:39.570193",
     "exception": false,
     "start_time": "2021-02-23T19:00:39.460507",
     "status": "completed"
    },
    "tags": []
   },
   "outputs": [
    {
     "data": {
      "text/html": [
       "<div>\n",
       "<style scoped>\n",
       "    .dataframe tbody tr th:only-of-type {\n",
       "        vertical-align: middle;\n",
       "    }\n",
       "\n",
       "    .dataframe tbody tr th {\n",
       "        vertical-align: top;\n",
       "    }\n",
       "\n",
       "    .dataframe thead th {\n",
       "        text-align: right;\n",
       "    }\n",
       "</style>\n",
       "<table border=\"1\" class=\"dataframe\">\n",
       "  <thead>\n",
       "    <tr style=\"text-align: right;\">\n",
       "      <th></th>\n",
       "      <th>ID</th>\n",
       "      <th>Warehouse_block</th>\n",
       "      <th>Mode_of_Shipment</th>\n",
       "      <th>Customer_care_calls</th>\n",
       "      <th>Customer_rating</th>\n",
       "      <th>Cost_of_the_Product</th>\n",
       "      <th>Prior_purchases</th>\n",
       "      <th>Product_importance</th>\n",
       "      <th>Gender</th>\n",
       "      <th>Discount_offered</th>\n",
       "      <th>Weight_in_gms</th>\n",
       "      <th>Reached.on.Time_Y.N</th>\n",
       "    </tr>\n",
       "  </thead>\n",
       "  <tbody>\n",
       "    <tr>\n",
       "      <th>0</th>\n",
       "      <td>1</td>\n",
       "      <td>D</td>\n",
       "      <td>Flight</td>\n",
       "      <td>4</td>\n",
       "      <td>2</td>\n",
       "      <td>177</td>\n",
       "      <td>3</td>\n",
       "      <td>low</td>\n",
       "      <td>F</td>\n",
       "      <td>44</td>\n",
       "      <td>1233</td>\n",
       "      <td>1</td>\n",
       "    </tr>\n",
       "    <tr>\n",
       "      <th>1</th>\n",
       "      <td>2</td>\n",
       "      <td>F</td>\n",
       "      <td>Flight</td>\n",
       "      <td>4</td>\n",
       "      <td>5</td>\n",
       "      <td>216</td>\n",
       "      <td>2</td>\n",
       "      <td>low</td>\n",
       "      <td>M</td>\n",
       "      <td>59</td>\n",
       "      <td>3088</td>\n",
       "      <td>1</td>\n",
       "    </tr>\n",
       "    <tr>\n",
       "      <th>2</th>\n",
       "      <td>3</td>\n",
       "      <td>A</td>\n",
       "      <td>Flight</td>\n",
       "      <td>2</td>\n",
       "      <td>2</td>\n",
       "      <td>183</td>\n",
       "      <td>4</td>\n",
       "      <td>low</td>\n",
       "      <td>M</td>\n",
       "      <td>48</td>\n",
       "      <td>3374</td>\n",
       "      <td>1</td>\n",
       "    </tr>\n",
       "    <tr>\n",
       "      <th>3</th>\n",
       "      <td>4</td>\n",
       "      <td>B</td>\n",
       "      <td>Flight</td>\n",
       "      <td>3</td>\n",
       "      <td>3</td>\n",
       "      <td>176</td>\n",
       "      <td>4</td>\n",
       "      <td>medium</td>\n",
       "      <td>M</td>\n",
       "      <td>10</td>\n",
       "      <td>1177</td>\n",
       "      <td>1</td>\n",
       "    </tr>\n",
       "    <tr>\n",
       "      <th>4</th>\n",
       "      <td>5</td>\n",
       "      <td>C</td>\n",
       "      <td>Flight</td>\n",
       "      <td>2</td>\n",
       "      <td>2</td>\n",
       "      <td>184</td>\n",
       "      <td>3</td>\n",
       "      <td>medium</td>\n",
       "      <td>F</td>\n",
       "      <td>46</td>\n",
       "      <td>2484</td>\n",
       "      <td>1</td>\n",
       "    </tr>\n",
       "  </tbody>\n",
       "</table>\n",
       "</div>"
      ],
      "text/plain": [
       "   ID Warehouse_block Mode_of_Shipment  Customer_care_calls  Customer_rating  \\\n",
       "0   1               D           Flight                    4                2   \n",
       "1   2               F           Flight                    4                5   \n",
       "2   3               A           Flight                    2                2   \n",
       "3   4               B           Flight                    3                3   \n",
       "4   5               C           Flight                    2                2   \n",
       "\n",
       "   Cost_of_the_Product  Prior_purchases Product_importance Gender  \\\n",
       "0                  177                3                low      F   \n",
       "1                  216                2                low      M   \n",
       "2                  183                4                low      M   \n",
       "3                  176                4             medium      M   \n",
       "4                  184                3             medium      F   \n",
       "\n",
       "   Discount_offered  Weight_in_gms  Reached.on.Time_Y.N  \n",
       "0                44           1233                    1  \n",
       "1                59           3088                    1  \n",
       "2                48           3374                    1  \n",
       "3                10           1177                    1  \n",
       "4                46           2484                    1  "
      ]
     },
     "execution_count": 2,
     "metadata": {},
     "output_type": "execute_result"
    }
   ],
   "source": [
    "data=pd.read_csv(\"data.csv\")\n",
    "data.head()"
   ]
  },
  {
   "cell_type": "code",
   "execution_count": 3,
   "metadata": {
    "execution": {
     "iopub.execute_input": "2021-02-23T19:00:39.631486Z",
     "iopub.status.busy": "2021-02-23T19:00:39.630384Z",
     "iopub.status.idle": "2021-02-23T19:00:39.634244Z",
     "shell.execute_reply": "2021-02-23T19:00:39.633705Z"
    },
    "papermill": {
     "duration": 0.038486,
     "end_time": "2021-02-23T19:00:39.634409",
     "exception": false,
     "start_time": "2021-02-23T19:00:39.595923",
     "status": "completed"
    },
    "tags": []
   },
   "outputs": [],
   "source": [
    "data.drop(data.columns[0], axis=1, inplace=True)"
   ]
  },
  {
   "cell_type": "code",
   "execution_count": 4,
   "metadata": {
    "execution": {
     "iopub.execute_input": "2021-02-23T19:00:39.697181Z",
     "iopub.status.busy": "2021-02-23T19:00:39.696355Z",
     "iopub.status.idle": "2021-02-23T19:00:39.708998Z",
     "shell.execute_reply": "2021-02-23T19:00:39.709470Z"
    },
    "papermill": {
     "duration": 0.049446,
     "end_time": "2021-02-23T19:00:39.709702",
     "exception": false,
     "start_time": "2021-02-23T19:00:39.660256",
     "status": "completed"
    },
    "tags": []
   },
   "outputs": [
    {
     "data": {
      "text/html": [
       "<div>\n",
       "<style scoped>\n",
       "    .dataframe tbody tr th:only-of-type {\n",
       "        vertical-align: middle;\n",
       "    }\n",
       "\n",
       "    .dataframe tbody tr th {\n",
       "        vertical-align: top;\n",
       "    }\n",
       "\n",
       "    .dataframe thead th {\n",
       "        text-align: right;\n",
       "    }\n",
       "</style>\n",
       "<table border=\"1\" class=\"dataframe\">\n",
       "  <thead>\n",
       "    <tr style=\"text-align: right;\">\n",
       "      <th></th>\n",
       "      <th>Warehouse_block</th>\n",
       "      <th>Mode_of_Shipment</th>\n",
       "      <th>Customer_care_calls</th>\n",
       "      <th>Customer_rating</th>\n",
       "      <th>Cost_of_the_Product</th>\n",
       "      <th>Prior_purchases</th>\n",
       "      <th>Product_importance</th>\n",
       "      <th>Gender</th>\n",
       "      <th>Discount_offered</th>\n",
       "      <th>Weight_in_gms</th>\n",
       "      <th>Reached.on.Time_Y.N</th>\n",
       "    </tr>\n",
       "  </thead>\n",
       "  <tbody>\n",
       "    <tr>\n",
       "      <th>0</th>\n",
       "      <td>D</td>\n",
       "      <td>Flight</td>\n",
       "      <td>4</td>\n",
       "      <td>2</td>\n",
       "      <td>177</td>\n",
       "      <td>3</td>\n",
       "      <td>low</td>\n",
       "      <td>F</td>\n",
       "      <td>44</td>\n",
       "      <td>1233</td>\n",
       "      <td>1</td>\n",
       "    </tr>\n",
       "    <tr>\n",
       "      <th>1</th>\n",
       "      <td>F</td>\n",
       "      <td>Flight</td>\n",
       "      <td>4</td>\n",
       "      <td>5</td>\n",
       "      <td>216</td>\n",
       "      <td>2</td>\n",
       "      <td>low</td>\n",
       "      <td>M</td>\n",
       "      <td>59</td>\n",
       "      <td>3088</td>\n",
       "      <td>1</td>\n",
       "    </tr>\n",
       "    <tr>\n",
       "      <th>2</th>\n",
       "      <td>A</td>\n",
       "      <td>Flight</td>\n",
       "      <td>2</td>\n",
       "      <td>2</td>\n",
       "      <td>183</td>\n",
       "      <td>4</td>\n",
       "      <td>low</td>\n",
       "      <td>M</td>\n",
       "      <td>48</td>\n",
       "      <td>3374</td>\n",
       "      <td>1</td>\n",
       "    </tr>\n",
       "    <tr>\n",
       "      <th>3</th>\n",
       "      <td>B</td>\n",
       "      <td>Flight</td>\n",
       "      <td>3</td>\n",
       "      <td>3</td>\n",
       "      <td>176</td>\n",
       "      <td>4</td>\n",
       "      <td>medium</td>\n",
       "      <td>M</td>\n",
       "      <td>10</td>\n",
       "      <td>1177</td>\n",
       "      <td>1</td>\n",
       "    </tr>\n",
       "    <tr>\n",
       "      <th>4</th>\n",
       "      <td>C</td>\n",
       "      <td>Flight</td>\n",
       "      <td>2</td>\n",
       "      <td>2</td>\n",
       "      <td>184</td>\n",
       "      <td>3</td>\n",
       "      <td>medium</td>\n",
       "      <td>F</td>\n",
       "      <td>46</td>\n",
       "      <td>2484</td>\n",
       "      <td>1</td>\n",
       "    </tr>\n",
       "  </tbody>\n",
       "</table>\n",
       "</div>"
      ],
      "text/plain": [
       "  Warehouse_block Mode_of_Shipment  Customer_care_calls  Customer_rating  \\\n",
       "0               D           Flight                    4                2   \n",
       "1               F           Flight                    4                5   \n",
       "2               A           Flight                    2                2   \n",
       "3               B           Flight                    3                3   \n",
       "4               C           Flight                    2                2   \n",
       "\n",
       "   Cost_of_the_Product  Prior_purchases Product_importance Gender  \\\n",
       "0                  177                3                low      F   \n",
       "1                  216                2                low      M   \n",
       "2                  183                4                low      M   \n",
       "3                  176                4             medium      M   \n",
       "4                  184                3             medium      F   \n",
       "\n",
       "   Discount_offered  Weight_in_gms  Reached.on.Time_Y.N  \n",
       "0                44           1233                    1  \n",
       "1                59           3088                    1  \n",
       "2                48           3374                    1  \n",
       "3                10           1177                    1  \n",
       "4                46           2484                    1  "
      ]
     },
     "execution_count": 4,
     "metadata": {},
     "output_type": "execute_result"
    }
   ],
   "source": [
    "data.head()"
   ]
  },
  {
   "cell_type": "code",
   "execution_count": 5,
   "metadata": {
    "execution": {
     "iopub.execute_input": "2021-02-23T19:00:39.765893Z",
     "iopub.status.busy": "2021-02-23T19:00:39.765218Z",
     "iopub.status.idle": "2021-02-23T19:00:39.784539Z",
     "shell.execute_reply": "2021-02-23T19:00:39.785226Z"
    },
    "papermill": {
     "duration": 0.049454,
     "end_time": "2021-02-23T19:00:39.785411",
     "exception": false,
     "start_time": "2021-02-23T19:00:39.735957",
     "status": "completed"
    },
    "tags": []
   },
   "outputs": [
    {
     "data": {
      "text/html": [
       "<div>\n",
       "<style scoped>\n",
       "    .dataframe tbody tr th:only-of-type {\n",
       "        vertical-align: middle;\n",
       "    }\n",
       "\n",
       "    .dataframe tbody tr th {\n",
       "        vertical-align: top;\n",
       "    }\n",
       "\n",
       "    .dataframe thead th {\n",
       "        text-align: right;\n",
       "    }\n",
       "</style>\n",
       "<table border=\"1\" class=\"dataframe\">\n",
       "  <thead>\n",
       "    <tr style=\"text-align: right;\">\n",
       "      <th></th>\n",
       "      <th>Warehouse_block</th>\n",
       "      <th>Mode_of_Shipment</th>\n",
       "      <th>Customer_care_calls</th>\n",
       "      <th>Customer_rating</th>\n",
       "      <th>Cost_of_the_Product</th>\n",
       "      <th>Prior_purchases</th>\n",
       "      <th>Product_importance</th>\n",
       "      <th>Gender</th>\n",
       "      <th>Discount_offered</th>\n",
       "      <th>Weight_in_gms</th>\n",
       "      <th>Reached.on.Time_Y.N</th>\n",
       "      <th>customerscore</th>\n",
       "    </tr>\n",
       "  </thead>\n",
       "  <tbody>\n",
       "    <tr>\n",
       "      <th>0</th>\n",
       "      <td>D</td>\n",
       "      <td>Flight</td>\n",
       "      <td>4</td>\n",
       "      <td>2</td>\n",
       "      <td>177</td>\n",
       "      <td>3</td>\n",
       "      <td>low</td>\n",
       "      <td>F</td>\n",
       "      <td>44</td>\n",
       "      <td>1233</td>\n",
       "      <td>1</td>\n",
       "      <td>NaN</td>\n",
       "    </tr>\n",
       "    <tr>\n",
       "      <th>1</th>\n",
       "      <td>F</td>\n",
       "      <td>Flight</td>\n",
       "      <td>4</td>\n",
       "      <td>5</td>\n",
       "      <td>216</td>\n",
       "      <td>2</td>\n",
       "      <td>low</td>\n",
       "      <td>M</td>\n",
       "      <td>59</td>\n",
       "      <td>3088</td>\n",
       "      <td>1</td>\n",
       "      <td>NaN</td>\n",
       "    </tr>\n",
       "    <tr>\n",
       "      <th>2</th>\n",
       "      <td>A</td>\n",
       "      <td>Flight</td>\n",
       "      <td>2</td>\n",
       "      <td>2</td>\n",
       "      <td>183</td>\n",
       "      <td>4</td>\n",
       "      <td>low</td>\n",
       "      <td>M</td>\n",
       "      <td>48</td>\n",
       "      <td>3374</td>\n",
       "      <td>1</td>\n",
       "      <td>NaN</td>\n",
       "    </tr>\n",
       "    <tr>\n",
       "      <th>3</th>\n",
       "      <td>B</td>\n",
       "      <td>Flight</td>\n",
       "      <td>3</td>\n",
       "      <td>3</td>\n",
       "      <td>176</td>\n",
       "      <td>4</td>\n",
       "      <td>medium</td>\n",
       "      <td>M</td>\n",
       "      <td>10</td>\n",
       "      <td>1177</td>\n",
       "      <td>1</td>\n",
       "      <td>NaN</td>\n",
       "    </tr>\n",
       "    <tr>\n",
       "      <th>4</th>\n",
       "      <td>C</td>\n",
       "      <td>Flight</td>\n",
       "      <td>2</td>\n",
       "      <td>2</td>\n",
       "      <td>184</td>\n",
       "      <td>3</td>\n",
       "      <td>medium</td>\n",
       "      <td>F</td>\n",
       "      <td>46</td>\n",
       "      <td>2484</td>\n",
       "      <td>1</td>\n",
       "      <td>NaN</td>\n",
       "    </tr>\n",
       "  </tbody>\n",
       "</table>\n",
       "</div>"
      ],
      "text/plain": [
       "  Warehouse_block Mode_of_Shipment  Customer_care_calls  Customer_rating  \\\n",
       "0               D           Flight                    4                2   \n",
       "1               F           Flight                    4                5   \n",
       "2               A           Flight                    2                2   \n",
       "3               B           Flight                    3                3   \n",
       "4               C           Flight                    2                2   \n",
       "\n",
       "   Cost_of_the_Product  Prior_purchases Product_importance Gender  \\\n",
       "0                  177                3                low      F   \n",
       "1                  216                2                low      M   \n",
       "2                  183                4                low      M   \n",
       "3                  176                4             medium      M   \n",
       "4                  184                3             medium      F   \n",
       "\n",
       "   Discount_offered  Weight_in_gms  Reached.on.Time_Y.N  customerscore  \n",
       "0                44           1233                    1            NaN  \n",
       "1                59           3088                    1            NaN  \n",
       "2                48           3374                    1            NaN  \n",
       "3                10           1177                    1            NaN  \n",
       "4                46           2484                    1            NaN  "
      ]
     },
     "execution_count": 5,
     "metadata": {},
     "output_type": "execute_result"
    }
   ],
   "source": [
    "data[\"customerscore\"]=np.nan\n",
    "data.head()"
   ]
  },
  {
   "cell_type": "markdown",
   "metadata": {
    "papermill": {
     "duration": 0.027219,
     "end_time": "2021-02-23T19:00:39.840157",
     "exception": false,
     "start_time": "2021-02-23T19:00:39.812938",
     "status": "completed"
    },
    "tags": []
   },
   "source": [
    "### Having good Customer Rating"
   ]
  },
  {
   "cell_type": "code",
   "execution_count": 6,
   "metadata": {
    "execution": {
     "iopub.execute_input": "2021-02-23T19:00:39.899270Z",
     "iopub.status.busy": "2021-02-23T19:00:39.898530Z",
     "iopub.status.idle": "2021-02-23T19:00:39.929138Z",
     "shell.execute_reply": "2021-02-23T19:00:39.928409Z"
    },
    "papermill": {
     "duration": 0.061889,
     "end_time": "2021-02-23T19:00:39.929300",
     "exception": false,
     "start_time": "2021-02-23T19:00:39.867411",
     "status": "completed"
    },
    "tags": []
   },
   "outputs": [],
   "source": [
    "good_rating=data.query('Customer_rating>=3')"
   ]
  },
  {
   "cell_type": "code",
   "execution_count": 7,
   "metadata": {
    "execution": {
     "iopub.execute_input": "2021-02-23T19:00:40.010253Z",
     "iopub.status.busy": "2021-02-23T19:00:40.009146Z",
     "iopub.status.idle": "2021-02-23T19:00:40.013719Z",
     "shell.execute_reply": "2021-02-23T19:00:40.014298Z"
    },
    "papermill": {
     "duration": 0.05853,
     "end_time": "2021-02-23T19:00:40.014507",
     "exception": false,
     "start_time": "2021-02-23T19:00:39.955977",
     "status": "completed"
    },
    "tags": []
   },
   "outputs": [
    {
     "data": {
      "text/html": [
       "<div>\n",
       "<style scoped>\n",
       "    .dataframe tbody tr th:only-of-type {\n",
       "        vertical-align: middle;\n",
       "    }\n",
       "\n",
       "    .dataframe tbody tr th {\n",
       "        vertical-align: top;\n",
       "    }\n",
       "\n",
       "    .dataframe thead th {\n",
       "        text-align: right;\n",
       "    }\n",
       "</style>\n",
       "<table border=\"1\" class=\"dataframe\">\n",
       "  <thead>\n",
       "    <tr style=\"text-align: right;\">\n",
       "      <th></th>\n",
       "      <th>Warehouse_block</th>\n",
       "      <th>Mode_of_Shipment</th>\n",
       "      <th>Customer_care_calls</th>\n",
       "      <th>Customer_rating</th>\n",
       "      <th>Cost_of_the_Product</th>\n",
       "      <th>Prior_purchases</th>\n",
       "      <th>Product_importance</th>\n",
       "      <th>Gender</th>\n",
       "      <th>Discount_offered</th>\n",
       "      <th>Weight_in_gms</th>\n",
       "      <th>Reached.on.Time_Y.N</th>\n",
       "      <th>customerscore</th>\n",
       "    </tr>\n",
       "  </thead>\n",
       "  <tbody>\n",
       "    <tr>\n",
       "      <th>1</th>\n",
       "      <td>F</td>\n",
       "      <td>Flight</td>\n",
       "      <td>4</td>\n",
       "      <td>5</td>\n",
       "      <td>216</td>\n",
       "      <td>2</td>\n",
       "      <td>low</td>\n",
       "      <td>M</td>\n",
       "      <td>59</td>\n",
       "      <td>3088</td>\n",
       "      <td>1</td>\n",
       "      <td>NaN</td>\n",
       "    </tr>\n",
       "    <tr>\n",
       "      <th>3</th>\n",
       "      <td>B</td>\n",
       "      <td>Flight</td>\n",
       "      <td>3</td>\n",
       "      <td>3</td>\n",
       "      <td>176</td>\n",
       "      <td>4</td>\n",
       "      <td>medium</td>\n",
       "      <td>M</td>\n",
       "      <td>10</td>\n",
       "      <td>1177</td>\n",
       "      <td>1</td>\n",
       "      <td>NaN</td>\n",
       "    </tr>\n",
       "    <tr>\n",
       "      <th>6</th>\n",
       "      <td>D</td>\n",
       "      <td>Flight</td>\n",
       "      <td>3</td>\n",
       "      <td>4</td>\n",
       "      <td>250</td>\n",
       "      <td>3</td>\n",
       "      <td>low</td>\n",
       "      <td>F</td>\n",
       "      <td>3</td>\n",
       "      <td>2371</td>\n",
       "      <td>1</td>\n",
       "      <td>NaN</td>\n",
       "    </tr>\n",
       "    <tr>\n",
       "      <th>8</th>\n",
       "      <td>A</td>\n",
       "      <td>Flight</td>\n",
       "      <td>3</td>\n",
       "      <td>4</td>\n",
       "      <td>150</td>\n",
       "      <td>3</td>\n",
       "      <td>low</td>\n",
       "      <td>F</td>\n",
       "      <td>11</td>\n",
       "      <td>1861</td>\n",
       "      <td>1</td>\n",
       "      <td>NaN</td>\n",
       "    </tr>\n",
       "    <tr>\n",
       "      <th>10</th>\n",
       "      <td>C</td>\n",
       "      <td>Flight</td>\n",
       "      <td>3</td>\n",
       "      <td>4</td>\n",
       "      <td>189</td>\n",
       "      <td>2</td>\n",
       "      <td>medium</td>\n",
       "      <td>M</td>\n",
       "      <td>12</td>\n",
       "      <td>2888</td>\n",
       "      <td>1</td>\n",
       "      <td>NaN</td>\n",
       "    </tr>\n",
       "    <tr>\n",
       "      <th>...</th>\n",
       "      <td>...</td>\n",
       "      <td>...</td>\n",
       "      <td>...</td>\n",
       "      <td>...</td>\n",
       "      <td>...</td>\n",
       "      <td>...</td>\n",
       "      <td>...</td>\n",
       "      <td>...</td>\n",
       "      <td>...</td>\n",
       "      <td>...</td>\n",
       "      <td>...</td>\n",
       "      <td>...</td>\n",
       "    </tr>\n",
       "    <tr>\n",
       "      <th>10987</th>\n",
       "      <td>F</td>\n",
       "      <td>Ship</td>\n",
       "      <td>5</td>\n",
       "      <td>3</td>\n",
       "      <td>242</td>\n",
       "      <td>5</td>\n",
       "      <td>low</td>\n",
       "      <td>F</td>\n",
       "      <td>10</td>\n",
       "      <td>1846</td>\n",
       "      <td>1</td>\n",
       "      <td>NaN</td>\n",
       "    </tr>\n",
       "    <tr>\n",
       "      <th>10988</th>\n",
       "      <td>A</td>\n",
       "      <td>Ship</td>\n",
       "      <td>4</td>\n",
       "      <td>3</td>\n",
       "      <td>192</td>\n",
       "      <td>4</td>\n",
       "      <td>low</td>\n",
       "      <td>F</td>\n",
       "      <td>2</td>\n",
       "      <td>1830</td>\n",
       "      <td>0</td>\n",
       "      <td>NaN</td>\n",
       "    </tr>\n",
       "    <tr>\n",
       "      <th>10990</th>\n",
       "      <td>C</td>\n",
       "      <td>Ship</td>\n",
       "      <td>5</td>\n",
       "      <td>4</td>\n",
       "      <td>219</td>\n",
       "      <td>6</td>\n",
       "      <td>low</td>\n",
       "      <td>M</td>\n",
       "      <td>3</td>\n",
       "      <td>1098</td>\n",
       "      <td>0</td>\n",
       "      <td>NaN</td>\n",
       "    </tr>\n",
       "    <tr>\n",
       "      <th>10996</th>\n",
       "      <td>C</td>\n",
       "      <td>Ship</td>\n",
       "      <td>5</td>\n",
       "      <td>4</td>\n",
       "      <td>242</td>\n",
       "      <td>5</td>\n",
       "      <td>low</td>\n",
       "      <td>F</td>\n",
       "      <td>4</td>\n",
       "      <td>1155</td>\n",
       "      <td>0</td>\n",
       "      <td>NaN</td>\n",
       "    </tr>\n",
       "    <tr>\n",
       "      <th>10998</th>\n",
       "      <td>D</td>\n",
       "      <td>Ship</td>\n",
       "      <td>2</td>\n",
       "      <td>5</td>\n",
       "      <td>155</td>\n",
       "      <td>5</td>\n",
       "      <td>low</td>\n",
       "      <td>F</td>\n",
       "      <td>6</td>\n",
       "      <td>1639</td>\n",
       "      <td>0</td>\n",
       "      <td>NaN</td>\n",
       "    </tr>\n",
       "  </tbody>\n",
       "</table>\n",
       "<p>6599 rows × 12 columns</p>\n",
       "</div>"
      ],
      "text/plain": [
       "      Warehouse_block Mode_of_Shipment  Customer_care_calls  Customer_rating  \\\n",
       "1                   F           Flight                    4                5   \n",
       "3                   B           Flight                    3                3   \n",
       "6                   D           Flight                    3                4   \n",
       "8                   A           Flight                    3                4   \n",
       "10                  C           Flight                    3                4   \n",
       "...               ...              ...                  ...              ...   \n",
       "10987               F             Ship                    5                3   \n",
       "10988               A             Ship                    4                3   \n",
       "10990               C             Ship                    5                4   \n",
       "10996               C             Ship                    5                4   \n",
       "10998               D             Ship                    2                5   \n",
       "\n",
       "       Cost_of_the_Product  Prior_purchases Product_importance Gender  \\\n",
       "1                      216                2                low      M   \n",
       "3                      176                4             medium      M   \n",
       "6                      250                3                low      F   \n",
       "8                      150                3                low      F   \n",
       "10                     189                2             medium      M   \n",
       "...                    ...              ...                ...    ...   \n",
       "10987                  242                5                low      F   \n",
       "10988                  192                4                low      F   \n",
       "10990                  219                6                low      M   \n",
       "10996                  242                5                low      F   \n",
       "10998                  155                5                low      F   \n",
       "\n",
       "       Discount_offered  Weight_in_gms  Reached.on.Time_Y.N  customerscore  \n",
       "1                    59           3088                    1            NaN  \n",
       "3                    10           1177                    1            NaN  \n",
       "6                     3           2371                    1            NaN  \n",
       "8                    11           1861                    1            NaN  \n",
       "10                   12           2888                    1            NaN  \n",
       "...                 ...            ...                  ...            ...  \n",
       "10987                10           1846                    1            NaN  \n",
       "10988                 2           1830                    0            NaN  \n",
       "10990                 3           1098                    0            NaN  \n",
       "10996                 4           1155                    0            NaN  \n",
       "10998                 6           1639                    0            NaN  \n",
       "\n",
       "[6599 rows x 12 columns]"
      ]
     },
     "execution_count": 7,
     "metadata": {},
     "output_type": "execute_result"
    }
   ],
   "source": [
    "good_rating"
   ]
  },
  {
   "cell_type": "code",
   "execution_count": 8,
   "metadata": {
    "execution": {
     "iopub.execute_input": "2021-02-23T19:00:40.080165Z",
     "iopub.status.busy": "2021-02-23T19:00:40.078937Z",
     "iopub.status.idle": "2021-02-23T19:00:40.085341Z",
     "shell.execute_reply": "2021-02-23T19:00:40.086012Z"
    },
    "papermill": {
     "duration": 0.04199,
     "end_time": "2021-02-23T19:00:40.086233",
     "exception": false,
     "start_time": "2021-02-23T19:00:40.044243",
     "status": "completed"
    },
    "tags": []
   },
   "outputs": [],
   "source": [
    "data.rename(columns={\"Reached.on.Time_Y.N\": \"Reached_on_Time\"},inplace=True)"
   ]
  },
  {
   "cell_type": "markdown",
   "metadata": {
    "papermill": {
     "duration": 0.030492,
     "end_time": "2021-02-23T19:00:40.146587",
     "exception": false,
     "start_time": "2021-02-23T19:00:40.116095",
     "status": "completed"
    },
    "tags": []
   },
   "source": [
    "### Product Reached on Time"
   ]
  },
  {
   "cell_type": "code",
   "execution_count": 9,
   "metadata": {
    "execution": {
     "iopub.execute_input": "2021-02-23T19:00:40.216552Z",
     "iopub.status.busy": "2021-02-23T19:00:40.214160Z",
     "iopub.status.idle": "2021-02-23T19:00:40.228258Z",
     "shell.execute_reply": "2021-02-23T19:00:40.228810Z"
    },
    "papermill": {
     "duration": 0.053081,
     "end_time": "2021-02-23T19:00:40.229047",
     "exception": false,
     "start_time": "2021-02-23T19:00:40.175966",
     "status": "completed"
    },
    "tags": []
   },
   "outputs": [
    {
     "data": {
      "text/plain": [
       "1    59.669061\n",
       "0    40.330939\n",
       "Name: Reached_on_Time, dtype: float64"
      ]
     },
     "execution_count": 9,
     "metadata": {},
     "output_type": "execute_result"
    }
   ],
   "source": [
    "data['Reached_on_Time'].value_counts(normalize=True) * 100"
   ]
  },
  {
   "cell_type": "markdown",
   "metadata": {
    "papermill": {
     "duration": 0.029694,
     "end_time": "2021-02-23T19:00:40.287713",
     "exception": false,
     "start_time": "2021-02-23T19:00:40.258019",
     "status": "completed"
    },
    "tags": []
   },
   "source": [
    "### Plot of good Customer rating + shipment received time "
   ]
  },
  {
   "cell_type": "code",
   "execution_count": 10,
   "metadata": {
    "execution": {
     "iopub.execute_input": "2021-02-23T19:00:40.349501Z",
     "iopub.status.busy": "2021-02-23T19:00:40.348653Z",
     "iopub.status.idle": "2021-02-23T19:00:40.353505Z",
     "shell.execute_reply": "2021-02-23T19:00:40.352831Z"
    },
    "papermill": {
     "duration": 0.037421,
     "end_time": "2021-02-23T19:00:40.353682",
     "exception": false,
     "start_time": "2021-02-23T19:00:40.316261",
     "status": "completed"
    },
    "tags": []
   },
   "outputs": [],
   "source": [
    "import seaborn as sns\n"
   ]
  },
  {
   "cell_type": "code",
   "execution_count": 11,
   "metadata": {
    "execution": {
     "iopub.execute_input": "2021-02-23T19:00:40.420162Z",
     "iopub.status.busy": "2021-02-23T19:00:40.419477Z",
     "iopub.status.idle": "2021-02-23T19:00:40.423786Z",
     "shell.execute_reply": "2021-02-23T19:00:40.424713Z"
    },
    "papermill": {
     "duration": 0.041924,
     "end_time": "2021-02-23T19:00:40.425045",
     "exception": false,
     "start_time": "2021-02-23T19:00:40.383121",
     "status": "completed"
    },
    "tags": []
   },
   "outputs": [
    {
     "name": "stdout",
     "output_type": "stream",
     "text": [
      "2311955\n"
     ]
    }
   ],
   "source": [
    "totalcost = data['Cost_of_the_Product'].sum()\n",
    "print (totalcost)"
   ]
  },
  {
   "cell_type": "code",
   "execution_count": 12,
   "metadata": {
    "execution": {
     "iopub.execute_input": "2021-02-23T19:00:40.488617Z",
     "iopub.status.busy": "2021-02-23T19:00:40.487946Z",
     "iopub.status.idle": "2021-02-23T19:00:40.495222Z",
     "shell.execute_reply": "2021-02-23T19:00:40.494395Z"
    },
    "papermill": {
     "duration": 0.04009,
     "end_time": "2021-02-23T19:00:40.495409",
     "exception": false,
     "start_time": "2021-02-23T19:00:40.455319",
     "status": "completed"
    },
    "tags": []
   },
   "outputs": [
    {
     "name": "stdout",
     "output_type": "stream",
     "text": [
      "10999\n"
     ]
    }
   ],
   "source": [
    "countorder=data['Cost_of_the_Product'].count()\n",
    "print(countorder)"
   ]
  },
  {
   "cell_type": "code",
   "execution_count": 13,
   "metadata": {
    "execution": {
     "iopub.execute_input": "2021-02-23T19:00:40.565258Z",
     "iopub.status.busy": "2021-02-23T19:00:40.564261Z",
     "iopub.status.idle": "2021-02-23T19:00:40.568287Z",
     "shell.execute_reply": "2021-02-23T19:00:40.569035Z"
    },
    "papermill": {
     "duration": 0.04309,
     "end_time": "2021-02-23T19:00:40.569314",
     "exception": false,
     "start_time": "2021-02-23T19:00:40.526224",
     "status": "completed"
    },
    "tags": []
   },
   "outputs": [
    {
     "name": "stdout",
     "output_type": "stream",
     "text": [
      "210.19683607600692\n"
     ]
    }
   ],
   "source": [
    "avg=totalcost/countorder\n",
    "print(avg)"
   ]
  },
  {
   "cell_type": "markdown",
   "metadata": {
    "papermill": {
     "duration": 0.033382,
     "end_time": "2021-02-23T19:00:40.635802",
     "exception": false,
     "start_time": "2021-02-23T19:00:40.602420",
     "status": "completed"
    },
    "tags": []
   },
   "source": [
    "### Customer Score"
   ]
  },
  {
   "cell_type": "code",
   "execution_count": 14,
   "metadata": {
    "execution": {
     "iopub.execute_input": "2021-02-23T19:00:40.720686Z",
     "iopub.status.busy": "2021-02-23T19:00:40.715184Z",
     "iopub.status.idle": "2021-02-23T19:00:40.746422Z",
     "shell.execute_reply": "2021-02-23T19:00:40.745781Z"
    },
    "papermill": {
     "duration": 0.076123,
     "end_time": "2021-02-23T19:00:40.746612",
     "exception": false,
     "start_time": "2021-02-23T19:00:40.670489",
     "status": "completed"
    },
    "tags": []
   },
   "outputs": [
    {
     "data": {
      "text/html": [
       "<div>\n",
       "<style scoped>\n",
       "    .dataframe tbody tr th:only-of-type {\n",
       "        vertical-align: middle;\n",
       "    }\n",
       "\n",
       "    .dataframe tbody tr th {\n",
       "        vertical-align: top;\n",
       "    }\n",
       "\n",
       "    .dataframe thead th {\n",
       "        text-align: right;\n",
       "    }\n",
       "</style>\n",
       "<table border=\"1\" class=\"dataframe\">\n",
       "  <thead>\n",
       "    <tr style=\"text-align: right;\">\n",
       "      <th></th>\n",
       "      <th>Warehouse_block</th>\n",
       "      <th>Mode_of_Shipment</th>\n",
       "      <th>Customer_care_calls</th>\n",
       "      <th>Customer_rating</th>\n",
       "      <th>Cost_of_the_Product</th>\n",
       "      <th>Prior_purchases</th>\n",
       "      <th>Product_importance</th>\n",
       "      <th>Gender</th>\n",
       "      <th>Discount_offered</th>\n",
       "      <th>Weight_in_gms</th>\n",
       "      <th>Reached_on_Time</th>\n",
       "      <th>customerscore</th>\n",
       "    </tr>\n",
       "  </thead>\n",
       "  <tbody>\n",
       "    <tr>\n",
       "      <th>0</th>\n",
       "      <td>D</td>\n",
       "      <td>Flight</td>\n",
       "      <td>4</td>\n",
       "      <td>2</td>\n",
       "      <td>177</td>\n",
       "      <td>3</td>\n",
       "      <td>low</td>\n",
       "      <td>F</td>\n",
       "      <td>44</td>\n",
       "      <td>1233</td>\n",
       "      <td>1</td>\n",
       "      <td>630.590508</td>\n",
       "    </tr>\n",
       "    <tr>\n",
       "      <th>1</th>\n",
       "      <td>F</td>\n",
       "      <td>Flight</td>\n",
       "      <td>4</td>\n",
       "      <td>5</td>\n",
       "      <td>216</td>\n",
       "      <td>2</td>\n",
       "      <td>low</td>\n",
       "      <td>M</td>\n",
       "      <td>59</td>\n",
       "      <td>3088</td>\n",
       "      <td>1</td>\n",
       "      <td>420.393672</td>\n",
       "    </tr>\n",
       "    <tr>\n",
       "      <th>2</th>\n",
       "      <td>A</td>\n",
       "      <td>Flight</td>\n",
       "      <td>2</td>\n",
       "      <td>2</td>\n",
       "      <td>183</td>\n",
       "      <td>4</td>\n",
       "      <td>low</td>\n",
       "      <td>M</td>\n",
       "      <td>48</td>\n",
       "      <td>3374</td>\n",
       "      <td>1</td>\n",
       "      <td>840.787344</td>\n",
       "    </tr>\n",
       "    <tr>\n",
       "      <th>3</th>\n",
       "      <td>B</td>\n",
       "      <td>Flight</td>\n",
       "      <td>3</td>\n",
       "      <td>3</td>\n",
       "      <td>176</td>\n",
       "      <td>4</td>\n",
       "      <td>medium</td>\n",
       "      <td>M</td>\n",
       "      <td>10</td>\n",
       "      <td>1177</td>\n",
       "      <td>1</td>\n",
       "      <td>840.787344</td>\n",
       "    </tr>\n",
       "    <tr>\n",
       "      <th>4</th>\n",
       "      <td>C</td>\n",
       "      <td>Flight</td>\n",
       "      <td>2</td>\n",
       "      <td>2</td>\n",
       "      <td>184</td>\n",
       "      <td>3</td>\n",
       "      <td>medium</td>\n",
       "      <td>F</td>\n",
       "      <td>46</td>\n",
       "      <td>2484</td>\n",
       "      <td>1</td>\n",
       "      <td>630.590508</td>\n",
       "    </tr>\n",
       "  </tbody>\n",
       "</table>\n",
       "</div>"
      ],
      "text/plain": [
       "  Warehouse_block Mode_of_Shipment  Customer_care_calls  Customer_rating  \\\n",
       "0               D           Flight                    4                2   \n",
       "1               F           Flight                    4                5   \n",
       "2               A           Flight                    2                2   \n",
       "3               B           Flight                    3                3   \n",
       "4               C           Flight                    2                2   \n",
       "\n",
       "   Cost_of_the_Product  Prior_purchases Product_importance Gender  \\\n",
       "0                  177                3                low      F   \n",
       "1                  216                2                low      M   \n",
       "2                  183                4                low      M   \n",
       "3                  176                4             medium      M   \n",
       "4                  184                3             medium      F   \n",
       "\n",
       "   Discount_offered  Weight_in_gms  Reached_on_Time  customerscore  \n",
       "0                44           1233                1     630.590508  \n",
       "1                59           3088                1     420.393672  \n",
       "2                48           3374                1     840.787344  \n",
       "3                10           1177                1     840.787344  \n",
       "4                46           2484                1     630.590508  "
      ]
     },
     "execution_count": 14,
     "metadata": {},
     "output_type": "execute_result"
    }
   ],
   "source": [
    "a=[]\n",
    "for value in data['Prior_purchases']: \n",
    "    a.append(avg*value)\n",
    "data['customerscore']=a\n",
    "data.head()"
   ]
  },
  {
   "cell_type": "code",
   "execution_count": 15,
   "metadata": {
    "execution": {
     "iopub.execute_input": "2021-02-23T19:00:40.819656Z",
     "iopub.status.busy": "2021-02-23T19:00:40.818518Z",
     "iopub.status.idle": "2021-02-23T19:00:40.824827Z",
     "shell.execute_reply": "2021-02-23T19:00:40.823431Z"
    },
    "papermill": {
     "duration": 0.046572,
     "end_time": "2021-02-23T19:00:40.825015",
     "exception": false,
     "start_time": "2021-02-23T19:00:40.778443",
     "status": "completed"
    },
    "tags": []
   },
   "outputs": [
    {
     "data": {
      "text/plain": [
       "630.5905082280208"
      ]
     },
     "execution_count": 15,
     "metadata": {},
     "output_type": "execute_result"
    }
   ],
   "source": [
    "data['customerscore'].median()"
   ]
  },
  {
   "cell_type": "code",
   "execution_count": 16,
   "metadata": {
    "execution": {
     "iopub.execute_input": "2021-02-23T19:00:40.898217Z",
     "iopub.status.busy": "2021-02-23T19:00:40.894007Z",
     "iopub.status.idle": "2021-02-23T19:00:40.905915Z",
     "shell.execute_reply": "2021-02-23T19:00:40.905324Z"
    },
    "papermill": {
     "duration": 0.049193,
     "end_time": "2021-02-23T19:00:40.906063",
     "exception": false,
     "start_time": "2021-02-23T19:00:40.856870",
     "status": "completed"
    },
    "tags": []
   },
   "outputs": [],
   "source": [
    "goodscore=data.query('customerscore>=630')"
   ]
  },
  {
   "cell_type": "code",
   "execution_count": 17,
   "metadata": {
    "execution": {
     "iopub.execute_input": "2021-02-23T19:00:40.977442Z",
     "iopub.status.busy": "2021-02-23T19:00:40.976712Z",
     "iopub.status.idle": "2021-02-23T19:00:41.012611Z",
     "shell.execute_reply": "2021-02-23T19:00:41.011888Z"
    },
    "papermill": {
     "duration": 0.074694,
     "end_time": "2021-02-23T19:00:41.012778",
     "exception": false,
     "start_time": "2021-02-23T19:00:40.938084",
     "status": "completed"
    },
    "tags": []
   },
   "outputs": [
    {
     "name": "stdout",
     "output_type": "stream",
     "text": [
      "1    4938\n",
      "0    3462\n",
      "Name: Reached_on_Time, dtype: int64\n"
     ]
    },
    {
     "data": {
      "text/plain": [
       "1    58.785714\n",
       "0    41.214286\n",
       "Name: Reached_on_Time, dtype: float64"
      ]
     },
     "execution_count": 17,
     "metadata": {},
     "output_type": "execute_result"
    },
    {
     "data": {
      "image/png": "[encoded data removed]",
      "text/plain": [
       "<Figure size 432x288 with 1 Axes>"
      ]
     },
     "metadata": {
      "needs_background": "light"
     },
     "output_type": "display_data"
    }
   ],
   "source": [
    "ax = sns.countplot(x=\"Reached_on_Time\",data=goodscore, palette=\"icefire\",hue=\"Reached_on_Time\")\n",
    "plt.ylabel(\"No. of customers\")\n",
    "plt.title(\"About 41.21% of the customer received their shipment on-time\")\n",
    "\n",
    "\n",
    "ax.text(-0.9, 5690, 'Identified customer who has customer score greater than and equal to 630',fontsize=12,color='red')\n",
    "count1=goodscore['Reached_on_Time'].value_counts()\n",
    "print(count1)\n",
    "goodscore['Reached_on_Time'].value_counts(normalize=True)*100"
   ]
  },
  {
   "cell_type": "markdown",
   "metadata": {
    "papermill": {
     "duration": 0.03319,
     "end_time": "2021-02-23T19:00:41.077699",
     "exception": false,
     "start_time": "2021-02-23T19:00:41.044509",
     "status": "completed"
    },
    "tags": []
   },
   "source": [
    "### Pior purchased by Customer"
   ]
  },
  {
   "cell_type": "code",
   "execution_count": 18,
   "metadata": {
    "execution": {
     "iopub.execute_input": "2021-02-23T19:00:41.152593Z",
     "iopub.status.busy": "2021-02-23T19:00:41.151817Z",
     "iopub.status.idle": "2021-02-23T19:00:41.178531Z",
     "shell.execute_reply": "2021-02-23T19:00:41.177867Z"
    },
    "papermill": {
     "duration": 0.069385,
     "end_time": "2021-02-23T19:00:41.178736",
     "exception": false,
     "start_time": "2021-02-23T19:00:41.109351",
     "status": "completed"
    },
    "tags": []
   },
   "outputs": [
    {
     "data": {
      "text/html": [
       "<div>\n",
       "<style scoped>\n",
       "    .dataframe tbody tr th:only-of-type {\n",
       "        vertical-align: middle;\n",
       "    }\n",
       "\n",
       "    .dataframe tbody tr th {\n",
       "        vertical-align: top;\n",
       "    }\n",
       "\n",
       "    .dataframe thead th {\n",
       "        text-align: right;\n",
       "    }\n",
       "</style>\n",
       "<table border=\"1\" class=\"dataframe\">\n",
       "  <thead>\n",
       "    <tr style=\"text-align: right;\">\n",
       "      <th></th>\n",
       "      <th>Warehouse_block</th>\n",
       "      <th>Mode_of_Shipment</th>\n",
       "      <th>Customer_care_calls</th>\n",
       "      <th>Customer_rating</th>\n",
       "      <th>Cost_of_the_Product</th>\n",
       "      <th>Prior_purchases</th>\n",
       "      <th>Product_importance</th>\n",
       "      <th>Gender</th>\n",
       "      <th>Discount_offered</th>\n",
       "      <th>Weight_in_gms</th>\n",
       "      <th>Reached_on_Time</th>\n",
       "      <th>customerscore</th>\n",
       "    </tr>\n",
       "  </thead>\n",
       "  <tbody>\n",
       "    <tr>\n",
       "      <th>37</th>\n",
       "      <td>F</td>\n",
       "      <td>Ship</td>\n",
       "      <td>2</td>\n",
       "      <td>4</td>\n",
       "      <td>181</td>\n",
       "      <td>6</td>\n",
       "      <td>medium</td>\n",
       "      <td>F</td>\n",
       "      <td>16</td>\n",
       "      <td>3605</td>\n",
       "      <td>1</td>\n",
       "      <td>1261.181016</td>\n",
       "    </tr>\n",
       "    <tr>\n",
       "      <th>62</th>\n",
       "      <td>A</td>\n",
       "      <td>Ship</td>\n",
       "      <td>5</td>\n",
       "      <td>1</td>\n",
       "      <td>105</td>\n",
       "      <td>6</td>\n",
       "      <td>medium</td>\n",
       "      <td>M</td>\n",
       "      <td>62</td>\n",
       "      <td>1292</td>\n",
       "      <td>1</td>\n",
       "      <td>1261.181016</td>\n",
       "    </tr>\n",
       "    <tr>\n",
       "      <th>74</th>\n",
       "      <td>A</td>\n",
       "      <td>Ship</td>\n",
       "      <td>6</td>\n",
       "      <td>1</td>\n",
       "      <td>238</td>\n",
       "      <td>6</td>\n",
       "      <td>low</td>\n",
       "      <td>F</td>\n",
       "      <td>13</td>\n",
       "      <td>2442</td>\n",
       "      <td>1</td>\n",
       "      <td>1261.181016</td>\n",
       "    </tr>\n",
       "    <tr>\n",
       "      <th>90</th>\n",
       "      <td>D</td>\n",
       "      <td>Ship</td>\n",
       "      <td>5</td>\n",
       "      <td>3</td>\n",
       "      <td>174</td>\n",
       "      <td>6</td>\n",
       "      <td>high</td>\n",
       "      <td>F</td>\n",
       "      <td>41</td>\n",
       "      <td>1085</td>\n",
       "      <td>1</td>\n",
       "      <td>1261.181016</td>\n",
       "    </tr>\n",
       "    <tr>\n",
       "      <th>133</th>\n",
       "      <td>F</td>\n",
       "      <td>Flight</td>\n",
       "      <td>5</td>\n",
       "      <td>4</td>\n",
       "      <td>280</td>\n",
       "      <td>6</td>\n",
       "      <td>medium</td>\n",
       "      <td>F</td>\n",
       "      <td>51</td>\n",
       "      <td>3582</td>\n",
       "      <td>1</td>\n",
       "      <td>1261.181016</td>\n",
       "    </tr>\n",
       "    <tr>\n",
       "      <th>...</th>\n",
       "      <td>...</td>\n",
       "      <td>...</td>\n",
       "      <td>...</td>\n",
       "      <td>...</td>\n",
       "      <td>...</td>\n",
       "      <td>...</td>\n",
       "      <td>...</td>\n",
       "      <td>...</td>\n",
       "      <td>...</td>\n",
       "      <td>...</td>\n",
       "      <td>...</td>\n",
       "      <td>...</td>\n",
       "    </tr>\n",
       "    <tr>\n",
       "      <th>10981</th>\n",
       "      <td>F</td>\n",
       "      <td>Ship</td>\n",
       "      <td>5</td>\n",
       "      <td>2</td>\n",
       "      <td>251</td>\n",
       "      <td>6</td>\n",
       "      <td>low</td>\n",
       "      <td>M</td>\n",
       "      <td>10</td>\n",
       "      <td>1196</td>\n",
       "      <td>0</td>\n",
       "      <td>1261.181016</td>\n",
       "    </tr>\n",
       "    <tr>\n",
       "      <th>10983</th>\n",
       "      <td>B</td>\n",
       "      <td>Ship</td>\n",
       "      <td>4</td>\n",
       "      <td>3</td>\n",
       "      <td>229</td>\n",
       "      <td>6</td>\n",
       "      <td>medium</td>\n",
       "      <td>M</td>\n",
       "      <td>1</td>\n",
       "      <td>1235</td>\n",
       "      <td>1</td>\n",
       "      <td>1261.181016</td>\n",
       "    </tr>\n",
       "    <tr>\n",
       "      <th>10990</th>\n",
       "      <td>C</td>\n",
       "      <td>Ship</td>\n",
       "      <td>5</td>\n",
       "      <td>4</td>\n",
       "      <td>219</td>\n",
       "      <td>6</td>\n",
       "      <td>low</td>\n",
       "      <td>M</td>\n",
       "      <td>3</td>\n",
       "      <td>1098</td>\n",
       "      <td>0</td>\n",
       "      <td>1261.181016</td>\n",
       "    </tr>\n",
       "    <tr>\n",
       "      <th>10993</th>\n",
       "      <td>F</td>\n",
       "      <td>Ship</td>\n",
       "      <td>5</td>\n",
       "      <td>1</td>\n",
       "      <td>257</td>\n",
       "      <td>6</td>\n",
       "      <td>low</td>\n",
       "      <td>F</td>\n",
       "      <td>1</td>\n",
       "      <td>1150</td>\n",
       "      <td>0</td>\n",
       "      <td>1261.181016</td>\n",
       "    </tr>\n",
       "    <tr>\n",
       "      <th>10997</th>\n",
       "      <td>F</td>\n",
       "      <td>Ship</td>\n",
       "      <td>5</td>\n",
       "      <td>2</td>\n",
       "      <td>223</td>\n",
       "      <td>6</td>\n",
       "      <td>medium</td>\n",
       "      <td>M</td>\n",
       "      <td>2</td>\n",
       "      <td>1210</td>\n",
       "      <td>0</td>\n",
       "      <td>1261.181016</td>\n",
       "    </tr>\n",
       "  </tbody>\n",
       "</table>\n",
       "<p>1003 rows × 12 columns</p>\n",
       "</div>"
      ],
      "text/plain": [
       "      Warehouse_block Mode_of_Shipment  Customer_care_calls  Customer_rating  \\\n",
       "37                  F             Ship                    2                4   \n",
       "62                  A             Ship                    5                1   \n",
       "74                  A             Ship                    6                1   \n",
       "90                  D             Ship                    5                3   \n",
       "133                 F           Flight                    5                4   \n",
       "...               ...              ...                  ...              ...   \n",
       "10981               F             Ship                    5                2   \n",
       "10983               B             Ship                    4                3   \n",
       "10990               C             Ship                    5                4   \n",
       "10993               F             Ship                    5                1   \n",
       "10997               F             Ship                    5                2   \n",
       "\n",
       "       Cost_of_the_Product  Prior_purchases Product_importance Gender  \\\n",
       "37                     181                6             medium      F   \n",
       "62                     105                6             medium      M   \n",
       "74                     238                6                low      F   \n",
       "90                     174                6               high      F   \n",
       "133                    280                6             medium      F   \n",
       "...                    ...              ...                ...    ...   \n",
       "10981                  251                6                low      M   \n",
       "10983                  229                6             medium      M   \n",
       "10990                  219                6                low      M   \n",
       "10993                  257                6                low      F   \n",
       "10997                  223                6             medium      M   \n",
       "\n",
       "       Discount_offered  Weight_in_gms  Reached_on_Time  customerscore  \n",
       "37                   16           3605                1    1261.181016  \n",
       "62                   62           1292                1    1261.181016  \n",
       "74                   13           2442                1    1261.181016  \n",
       "90                   41           1085                1    1261.181016  \n",
       "133                  51           3582                1    1261.181016  \n",
       "...                 ...            ...              ...            ...  \n",
       "10981                10           1196                0    1261.181016  \n",
       "10983                 1           1235                1    1261.181016  \n",
       "10990                 3           1098                0    1261.181016  \n",
       "10993                 1           1150                0    1261.181016  \n",
       "10997                 2           1210                0    1261.181016  \n",
       "\n",
       "[1003 rows x 12 columns]"
      ]
     },
     "execution_count": 18,
     "metadata": {},
     "output_type": "execute_result"
    }
   ],
   "source": [
    "recurringorder=data.query('Prior_purchases>=6')\n",
    "recurringorder"
   ]
  },
  {
   "cell_type": "code",
   "execution_count": 19,
   "metadata": {
    "execution": {
     "iopub.execute_input": "2021-02-23T19:00:41.266302Z",
     "iopub.status.busy": "2021-02-23T19:00:41.265243Z",
     "iopub.status.idle": "2021-02-23T19:00:41.286757Z",
     "shell.execute_reply": "2021-02-23T19:00:41.288381Z"
    },
    "papermill": {
     "duration": 0.072225,
     "end_time": "2021-02-23T19:00:41.288827",
     "exception": false,
     "start_time": "2021-02-23T19:00:41.216602",
     "status": "completed"
    },
    "scrolled": false,
    "tags": []
   },
   "outputs": [
    {
     "name": "stdout",
     "output_type": "stream",
     "text": [
      "1    591\n",
      "0    412\n",
      "Name: Reached_on_Time, dtype: int64\n"
     ]
    },
    {
     "data": {
      "text/plain": [
       "1    58.92323\n",
       "0    41.07677\n",
       "Name: Reached_on_Time, dtype: float64"
      ]
     },
     "execution_count": 19,
     "metadata": {},
     "output_type": "execute_result"
    },
    {
     "data": {
      "image/png": "[encoded data removed]",
      "text/plain": [
       "<Figure size 432x288 with 1 Axes>"
      ]
     },
     "metadata": {
      "needs_background": "light"
     },
     "output_type": "display_data"
    }
   ],
   "source": [
    "ax = sns.countplot(x=\"Reached_on_Time\",data=recurringorder, palette=\"icefire\",hue=\"Reached_on_Time\")\n",
    "plt.ylabel(\"No. of customers\")\n",
    "plt.title(\"About 41.07% of the customer received their shipment on-time\")\n",
    "#plt.title(\"Identified the customer who rated 3\")\n",
    "ax.text(-0.6, 690, 'Identified customer who made prior purchase 6 and greater',fontsize=12,color='red')\n",
    "count2=recurringorder['Reached_on_Time'].value_counts()\n",
    "print(count2)\n",
    "recurringorder['Reached_on_Time'].value_counts(normalize=True)*100"
   ]
  },
  {
   "cell_type": "markdown",
   "metadata": {
    "papermill": {
     "duration": 0.048682,
     "end_time": "2021-02-23T19:00:41.393266",
     "exception": false,
     "start_time": "2021-02-23T19:00:41.344584",
     "status": "completed"
    },
    "tags": []
   },
   "source": [
    "### Highest Payment Buyers"
   ]
  },
  {
   "cell_type": "code",
   "execution_count": 20,
   "metadata": {
    "execution": {
     "iopub.execute_input": "2021-02-23T19:00:41.468165Z",
     "iopub.status.busy": "2021-02-23T19:00:41.467309Z",
     "iopub.status.idle": "2021-02-23T19:00:41.471999Z",
     "shell.execute_reply": "2021-02-23T19:00:41.472527Z"
    },
    "papermill": {
     "duration": 0.043372,
     "end_time": "2021-02-23T19:00:41.472736",
     "exception": false,
     "start_time": "2021-02-23T19:00:41.429364",
     "status": "completed"
    },
    "tags": []
   },
   "outputs": [
    {
     "data": {
      "text/plain": [
       "310"
      ]
     },
     "execution_count": 20,
     "metadata": {},
     "output_type": "execute_result"
    }
   ],
   "source": [
    "data[\"Cost_of_the_Product\"].max()"
   ]
  },
  {
   "cell_type": "code",
   "execution_count": 21,
   "metadata": {
    "execution": {
     "iopub.execute_input": "2021-02-23T19:00:41.546628Z",
     "iopub.status.busy": "2021-02-23T19:00:41.545484Z",
     "iopub.status.idle": "2021-02-23T19:00:41.550860Z",
     "shell.execute_reply": "2021-02-23T19:00:41.550139Z"
    },
    "papermill": {
     "duration": 0.044651,
     "end_time": "2021-02-23T19:00:41.551011",
     "exception": false,
     "start_time": "2021-02-23T19:00:41.506360",
     "status": "completed"
    },
    "tags": []
   },
   "outputs": [
    {
     "data": {
      "text/plain": [
       "96"
      ]
     },
     "execution_count": 21,
     "metadata": {},
     "output_type": "execute_result"
    }
   ],
   "source": [
    "data[\"Cost_of_the_Product\"].min()"
   ]
  },
  {
   "cell_type": "code",
   "execution_count": 22,
   "metadata": {
    "execution": {
     "iopub.execute_input": "2021-02-23T19:00:41.625963Z",
     "iopub.status.busy": "2021-02-23T19:00:41.625148Z",
     "iopub.status.idle": "2021-02-23T19:00:41.628941Z",
     "shell.execute_reply": "2021-02-23T19:00:41.629414Z"
    },
    "papermill": {
     "duration": 0.044571,
     "end_time": "2021-02-23T19:00:41.629632",
     "exception": false,
     "start_time": "2021-02-23T19:00:41.585061",
     "status": "completed"
    },
    "tags": []
   },
   "outputs": [],
   "source": [
    "medianvalue=data[\"Cost_of_the_Product\"].median()"
   ]
  },
  {
   "cell_type": "code",
   "execution_count": 23,
   "metadata": {
    "execution": {
     "iopub.execute_input": "2021-02-23T19:00:41.705578Z",
     "iopub.status.busy": "2021-02-23T19:00:41.704866Z",
     "iopub.status.idle": "2021-02-23T19:00:41.709315Z",
     "shell.execute_reply": "2021-02-23T19:00:41.708313Z"
    },
    "papermill": {
     "duration": 0.045651,
     "end_time": "2021-02-23T19:00:41.709477",
     "exception": false,
     "start_time": "2021-02-23T19:00:41.663826",
     "status": "completed"
    },
    "tags": []
   },
   "outputs": [
    {
     "name": "stdout",
     "output_type": "stream",
     "text": [
      "214.0\n"
     ]
    }
   ],
   "source": [
    "print(medianvalue)"
   ]
  },
  {
   "cell_type": "code",
   "execution_count": 24,
   "metadata": {
    "execution": {
     "iopub.execute_input": "2021-02-23T19:00:41.791639Z",
     "iopub.status.busy": "2021-02-23T19:00:41.790944Z",
     "iopub.status.idle": "2021-02-23T19:00:41.796992Z",
     "shell.execute_reply": "2021-02-23T19:00:41.796282Z"
    },
    "papermill": {
     "duration": 0.050912,
     "end_time": "2021-02-23T19:00:41.797152",
     "exception": false,
     "start_time": "2021-02-23T19:00:41.746240",
     "status": "completed"
    },
    "tags": []
   },
   "outputs": [],
   "source": [
    "higestpayment=data.query('Cost_of_the_Product>=214')"
   ]
  },
  {
   "cell_type": "code",
   "execution_count": 25,
   "metadata": {
    "execution": {
     "iopub.execute_input": "2021-02-23T19:00:41.883173Z",
     "iopub.status.busy": "2021-02-23T19:00:41.877048Z",
     "iopub.status.idle": "2021-02-23T19:00:41.889901Z",
     "shell.execute_reply": "2021-02-23T19:00:41.889200Z"
    },
    "papermill": {
     "duration": 0.05786,
     "end_time": "2021-02-23T19:00:41.890058",
     "exception": false,
     "start_time": "2021-02-23T19:00:41.832198",
     "status": "completed"
    },
    "tags": []
   },
   "outputs": [
    {
     "name": "stdout",
     "output_type": "stream",
     "text": [
      "1    3136\n",
      "0    2408\n",
      "Name: Reached_on_Time, dtype: int64\n"
     ]
    },
    {
     "data": {
      "text/plain": [
       "1    56.565657\n",
       "0    43.434343\n",
       "Name: Reached_on_Time, dtype: float64"
      ]
     },
     "execution_count": 25,
     "metadata": {},
     "output_type": "execute_result"
    },
    {
     "data": {
      "image/png": "[encoded data removed]",
      "text/plain": [
       "<Figure size 432x288 with 1 Axes>"
      ]
     },
     "metadata": {
      "needs_background": "light"
     },
     "output_type": "display_data"
    }
   ],
   "source": [
    "ax = sns.countplot(x=\"Reached_on_Time\",data=higestpayment, palette=\"icefire\",hue=\"Reached_on_Time\")\n",
    "plt.ylabel(\"No. of customers\")\n",
    "plt.title(\"About 43.43% of the customer received their shipment on-time\")\n",
    "#plt.title(\"Identified the customer who rated 3\")\n",
    "ax.text(-0.6, 3600, 'Identified customer who made payment higher than $214',fontsize=13,color='red')\n",
    "count3=higestpayment['Reached_on_Time'].value_counts()\n",
    "print(count3)\n",
    "higestpayment['Reached_on_Time'].value_counts(normalize=True)*100"
   ]
  },
  {
   "cell_type": "markdown",
   "metadata": {
    "papermill": {
     "duration": 0.035053,
     "end_time": "2021-02-23T19:00:41.960877",
     "exception": false,
     "start_time": "2021-02-23T19:00:41.925824",
     "status": "completed"
    },
    "tags": []
   },
   "source": [
    "### Valuble Customer"
   ]
  },
  {
   "cell_type": "code",
   "execution_count": 26,
   "metadata": {
    "execution": {
     "iopub.execute_input": "2021-02-23T19:00:42.039251Z",
     "iopub.status.busy": "2021-02-23T19:00:42.038400Z",
     "iopub.status.idle": "2021-02-23T19:00:42.046257Z",
     "shell.execute_reply": "2021-02-23T19:00:42.045634Z"
    },
    "papermill": {
     "duration": 0.049964,
     "end_time": "2021-02-23T19:00:42.046433",
     "exception": false,
     "start_time": "2021-02-23T19:00:41.996469",
     "status": "completed"
    },
    "tags": []
   },
   "outputs": [],
   "source": [
    "mostvaluablecustomer=data[(data['Customer_rating'] >= 3)&(data['Prior_purchases']>=6)&(data['Cost_of_the_Product']>=214)&(data['customerscore']>=data['customerscore'].median())]"
   ]
  },
  {
   "cell_type": "code",
   "execution_count": 27,
   "metadata": {
    "execution": {
     "iopub.execute_input": "2021-02-23T19:00:42.126537Z",
     "iopub.status.busy": "2021-02-23T19:00:42.125469Z",
     "iopub.status.idle": "2021-02-23T19:00:42.143520Z",
     "shell.execute_reply": "2021-02-23T19:00:42.144091Z"
    },
    "papermill": {
     "duration": 0.06066,
     "end_time": "2021-02-23T19:00:42.144322",
     "exception": false,
     "start_time": "2021-02-23T19:00:42.083662",
     "status": "completed"
    },
    "tags": []
   },
   "outputs": [
    {
     "name": "stdout",
     "output_type": "stream",
     "text": [
      "1    172\n",
      "0    156\n",
      "Name: Reached_on_Time, dtype: int64\n"
     ]
    },
    {
     "data": {
      "text/plain": [
       "1    52.439024\n",
       "0    47.560976\n",
       "Name: Reached_on_Time, dtype: float64"
      ]
     },
     "execution_count": 27,
     "metadata": {},
     "output_type": "execute_result"
    },
    {
     "data": {
      "image/png": "[encoded data removed]",
      "text/plain": [
       "<Figure size 432x288 with 1 Axes>"
      ]
     },
     "metadata": {
      "needs_background": "light"
     },
     "output_type": "display_data"
    }
   ],
   "source": [
    "ax = sns.countplot(x=\"Reached_on_Time\",data=mostvaluablecustomer, palette=\"icefire\",hue=\"Reached_on_Time\")\n",
    "plt.ylabel(\"No. of customers\")\n",
    "plt.title(\"About 47.56% of the customer received their shipment on-time\")\n",
    "#plt.title(\"Identified the customer who rated 3\")\n",
    "ax.text(-0.3, 200, 'Identified most valuable customer',fontsize=13,color='red')\n",
    "count4=mostvaluablecustomer['Reached_on_Time'].value_counts()\n",
    "print(count4)\n",
    "mostvaluablecustomer['Reached_on_Time'].value_counts(normalize=True)*100"
   ]
  },
  {
   "cell_type": "markdown",
   "metadata": {
    "papermill": {
     "duration": 0.037585,
     "end_time": "2021-02-23T19:00:42.219432",
     "exception": false,
     "start_time": "2021-02-23T19:00:42.181847",
     "status": "completed"
    },
    "tags": []
   },
   "source": [
    "# Basic Visulaization"
   ]
  },
  {
   "cell_type": "code",
   "execution_count": 28,
   "metadata": {
    "execution": {
     "iopub.execute_input": "2021-02-23T19:00:42.301436Z",
     "iopub.status.busy": "2021-02-23T19:00:42.300424Z",
     "iopub.status.idle": "2021-02-23T19:00:43.476314Z",
     "shell.execute_reply": "2021-02-23T19:00:43.474962Z"
    },
    "papermill": {
     "duration": 1.21928,
     "end_time": "2021-02-23T19:00:43.476540",
     "exception": false,
     "start_time": "2021-02-23T19:00:42.257260",
     "status": "completed"
    },
    "tags": []
   },
   "outputs": [
    {
     "data": {
      "image/png": "[encoded data removed]",
      "text/plain": [
       "<Figure size 432x288 with 1 Axes>"
      ]
     },
     "metadata": {
      "needs_background": "light"
     },
     "output_type": "display_data"
    }
   ],
   "source": [
    "import seaborn as sb\n",
    "from matplotlib import pyplot as plt\n",
    "sb.countplot(x = \"Prior_purchases\", data = data, palette = \"hls\",hue=\"Reached_on_Time\");\n",
    "plt.title('Prior Puchase Vs Product Reached on time')\n",
    "plt.show()"
   ]
  },
  {
   "cell_type": "code",
   "execution_count": 29,
   "metadata": {
    "execution": {
     "iopub.execute_input": "2021-02-23T19:00:43.563227Z",
     "iopub.status.busy": "2021-02-23T19:00:43.561992Z",
     "iopub.status.idle": "2021-02-23T19:00:43.789187Z",
     "shell.execute_reply": "2021-02-23T19:00:43.788477Z"
    },
    "papermill": {
     "duration": 0.273941,
     "end_time": "2021-02-23T19:00:43.789373",
     "exception": false,
     "start_time": "2021-02-23T19:00:43.515432",
     "status": "completed"
    },
    "tags": []
   },
   "outputs": [
    {
     "data": {
      "image/png": "[encoded data removed]",
      "text/plain": [
       "<Figure size 432x288 with 1 Axes>"
      ]
     },
     "metadata": {
      "needs_background": "light"
     },
     "output_type": "display_data"
    }
   ],
   "source": [
    "import seaborn as sb\n",
    "from matplotlib import pyplot as plt\n",
    "sb.countplot(x = \"Customer_rating\", data = data, palette = \"hls\",hue=\"Reached_on_Time\");\n",
    "plt.title('Customer Rating Vs Reached on-time')\n",
    "plt.show()"
   ]
  },
  {
   "cell_type": "code",
   "execution_count": 30,
   "metadata": {
    "execution": {
     "iopub.execute_input": "2021-02-23T19:00:43.874327Z",
     "iopub.status.busy": "2021-02-23T19:00:43.873613Z",
     "iopub.status.idle": "2021-02-23T19:00:44.146136Z",
     "shell.execute_reply": "2021-02-23T19:00:44.146706Z"
    },
    "papermill": {
     "duration": 0.317708,
     "end_time": "2021-02-23T19:00:44.146921",
     "exception": false,
     "start_time": "2021-02-23T19:00:43.829213",
     "status": "completed"
    },
    "tags": []
   },
   "outputs": [
    {
     "data": {
      "image/png": "[encoded data removed]",
      "text/plain": [
       "<Figure size 432x288 with 1 Axes>"
      ]
     },
     "metadata": {
      "needs_background": "light"
     },
     "output_type": "display_data"
    }
   ],
   "source": [
    "import seaborn as sb\n",
    "from matplotlib import pyplot as plt\n",
    "sb.countplot(x = \"Product_importance\", data = data, palette = \"hls\",hue=\"Reached_on_Time\");\n",
    "plt.title('Product Importance Vs Reached on time')\n",
    "plt.show()"
   ]
  },
  {
   "cell_type": "code",
   "execution_count": 31,
   "metadata": {
    "execution": {
     "iopub.execute_input": "2021-02-23T19:00:44.240084Z",
     "iopub.status.busy": "2021-02-23T19:00:44.239328Z",
     "iopub.status.idle": "2021-02-23T19:00:44.405014Z",
     "shell.execute_reply": "2021-02-23T19:00:44.404432Z"
    },
    "papermill": {
     "duration": 0.218574,
     "end_time": "2021-02-23T19:00:44.405180",
     "exception": false,
     "start_time": "2021-02-23T19:00:44.186606",
     "status": "completed"
    },
    "tags": []
   },
   "outputs": [
    {
     "data": {
      "image/png": "[encoded data removed]",
      "text/plain": [
       "<Figure size 432x288 with 1 Axes>"
      ]
     },
     "metadata": {
      "needs_background": "light"
     },
     "output_type": "display_data"
    }
   ],
   "source": [
    "import seaborn as sb\n",
    "from matplotlib import pyplot as plt\n",
    "sb.countplot(x = \"Gender\", data = data, palette = \"hls\",hue=\"Reached_on_Time\");\n",
    "plt.title('Gender Vs Reached on-time')\n",
    "plt.show()"
   ]
  },
  {
   "cell_type": "code",
   "execution_count": 32,
   "metadata": {
    "execution": {
     "iopub.execute_input": "2021-02-23T19:00:44.504268Z",
     "iopub.status.busy": "2021-02-23T19:00:44.503522Z",
     "iopub.status.idle": "2021-02-23T19:00:44.686927Z",
     "shell.execute_reply": "2021-02-23T19:00:44.687466Z"
    },
    "papermill": {
     "duration": 0.242332,
     "end_time": "2021-02-23T19:00:44.687666",
     "exception": false,
     "start_time": "2021-02-23T19:00:44.445334",
     "status": "completed"
    },
    "tags": []
   },
   "outputs": [
    {
     "data": {
      "image/png": "[encoded data removed]",
      "text/plain": [
       "<Figure size 432x288 with 1 Axes>"
      ]
     },
     "metadata": {
      "needs_background": "light"
     },
     "output_type": "display_data"
    }
   ],
   "source": [
    "import seaborn as sb\n",
    "from matplotlib import pyplot as plt\n",
    "sb.countplot(x = \"Warehouse_block\", data = data, palette = \"hls\",hue=\"Reached_on_Time\",order = data['Warehouse_block'].value_counts().index);\n",
    "plt.title('Warehouse block Vs Reached on time')\n",
    "plt.show()"
   ]
  },
  {
   "cell_type": "code",
   "execution_count": 33,
   "metadata": {
    "execution": {
     "iopub.execute_input": "2021-02-23T19:00:44.773426Z",
     "iopub.status.busy": "2021-02-23T19:00:44.772702Z",
     "iopub.status.idle": "2021-02-23T19:00:44.951154Z",
     "shell.execute_reply": "2021-02-23T19:00:44.950475Z"
    },
    "papermill": {
     "duration": 0.221536,
     "end_time": "2021-02-23T19:00:44.951310",
     "exception": false,
     "start_time": "2021-02-23T19:00:44.729774",
     "status": "completed"
    },
    "tags": []
   },
   "outputs": [
    {
     "data": {
      "image/png": "[encoded data removed]",
      "text/plain": [
       "<Figure size 432x288 with 1 Axes>"
      ]
     },
     "metadata": {
      "needs_background": "light"
     },
     "output_type": "display_data"
    }
   ],
   "source": [
    "import seaborn as sb\n",
    "from matplotlib import pyplot as plt\n",
    "sb.countplot(x = \"Mode_of_Shipment\", data = data, palette = \"hls\",hue=\"Reached_on_Time\");\n",
    "plt.title('Mode of shipment Vs Reached on-time')\n",
    "plt.show()"
   ]
  },
  {
   "cell_type": "code",
   "execution_count": 34,
   "metadata": {
    "execution": {
     "iopub.execute_input": "2021-02-23T19:00:45.039836Z",
     "iopub.status.busy": "2021-02-23T19:00:45.039175Z",
     "iopub.status.idle": "2021-02-23T19:00:45.255130Z",
     "shell.execute_reply": "2021-02-23T19:00:45.254442Z"
    },
    "papermill": {
     "duration": 0.262529,
     "end_time": "2021-02-23T19:00:45.255291",
     "exception": false,
     "start_time": "2021-02-23T19:00:44.992762",
     "status": "completed"
    },
    "tags": []
   },
   "outputs": [
    {
     "data": {
      "image/png": "[encoded data removed]",
      "text/plain": [
       "<Figure size 432x288 with 1 Axes>"
      ]
     },
     "metadata": {
      "needs_background": "light"
     },
     "output_type": "display_data"
    }
   ],
   "source": [
    "sb.countplot(x = \"Customer_care_calls\", data = data, palette = \"hls\",hue=\"Reached_on_Time\");\n",
    "plt.title('Customer care calls Vs Reached on-time')\n",
    "plt.show()"
   ]
  },
  {
   "cell_type": "code",
   "execution_count": 35,
   "metadata": {
    "execution": {
     "iopub.execute_input": "2021-02-23T19:00:45.364736Z",
     "iopub.status.busy": "2021-02-23T19:00:45.361234Z",
     "iopub.status.idle": "2021-02-23T19:00:45.526154Z",
     "shell.execute_reply": "2021-02-23T19:00:45.525625Z"
    },
    "papermill": {
     "duration": 0.228152,
     "end_time": "2021-02-23T19:00:45.526326",
     "exception": false,
     "start_time": "2021-02-23T19:00:45.298174",
     "status": "completed"
    },
    "tags": []
   },
   "outputs": [
    {
     "data": {
      "text/plain": [
       "Text(0.5, 0, 'Cost_of_the_Product')"
      ]
     },
     "execution_count": 35,
     "metadata": {},
     "output_type": "execute_result"
    },
    {
     "data": {
      "image/png": "[encoded data removed]",
      "text/plain": [
       "<Figure size 432x288 with 1 Axes>"
      ]
     },
     "metadata": {
      "needs_background": "light"
     },
     "output_type": "display_data"
    }
   ],
   "source": [
    "import matplotlib.pyplot as plt\n",
    "\n",
    "plt.hist(data['Cost_of_the_Product'], bins = 20)\n",
    "plt.title('Histogram of Cost Of Product')\n",
    "plt.xlabel('Cost_of_the_Product')"
   ]
  }
 ],
 "metadata": {
  "kernelspec": {
   "display_name": "Python 3",
   "language": "python",
   "name": "python3"
  },
  "language_info": {
   "codemirror_mode": {
    "name": "ipython",
    "version": 3
   },
   "file_extension": ".py",
   "mimetype": "text/x-python",
   "name": "python",
   "nbconvert_exporter": "python",
   "pygments_lexer": "ipython3",
   "version": "3.8.5"
  },
  "papermill": {
   "default_parameters": {},
   "duration": 13.797758,
   "end_time": "2021-02-23T19:00:46.452244",
   "environment_variables": {},
   "exception": null,
   "input_path": "__notebook__.ipynb",
   "output_path": "__notebook__.ipynb",
   "parameters": {},
   "start_time": "2021-02-23T19:00:32.654486",
   "version": "2.2.2"
  }
 },
 "nbformat": 4,
 "nbformat_minor": 4
}
